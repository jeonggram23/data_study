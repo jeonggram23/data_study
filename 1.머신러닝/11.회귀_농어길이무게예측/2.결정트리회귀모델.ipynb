{
 "cells": [
  {
   "cell_type": "code",
   "execution_count": 1,
   "metadata": {},
   "outputs": [],
   "source": [
    "from sklearn.metrics import r2_score\n",
    "from sklearn.metrics import mean_squared_error\n",
    "from sklearn.metrics import mean_absolute_error\n",
    "from sklearn.metrics import mean_squared_log_error\n",
    "\n",
    "def evaluate_reg_all(y_test, y_predict):\n",
    "    MSE = mean_squared_error(y_test,y_predict,squared=True)\n",
    "    RMSE = mean_squared_error(y_test,y_predict,squared=False)\n",
    "    MAE = mean_absolute_error(y_test,y_predict)\n",
    "    R2 = r2_score(y_test,y_predict)\n",
    "    \n",
    "    print(f'MSE: {MSE:.3f}, RMSE: {RMSE:.3F}, MAE: {MAE:.3F}, R^2: {R2:.3F}')"
   ]
  },
  {
   "cell_type": "code",
   "execution_count": 15,
   "metadata": {},
   "outputs": [
    {
     "name": "stdout",
     "output_type": "stream",
     "text": [
      "MSE: 7549.968, RMSE: 86.891, MAE: 63.271, R^2: 0.916\n",
      "실제 예측값:1000.0\n"
     ]
    }
   ],
   "source": [
    "import pandas as pd\n",
    "import numpy as np\n",
    "from sklearn.model_selection import train_test_split\n",
    "\n",
    "from sklearn.tree import DecisionTreeRegressor\n",
    "from sklearn.tree import DecisionTreeClassifier\n",
    "from sklearn.tree import plot_tree\n",
    "\n",
    "# 경고메세지 끄기\n",
    "import warnings\n",
    "warnings.filterwarnings(action='ignore')\n",
    "\n",
    "##########데이터 로드\n",
    "fish_df = pd.read_csv('./data/fish.csv')\n",
    "\n",
    "##########데이터 분석\n",
    "\n",
    "##########데이터 전처리\n",
    "\n",
    "# x_train , x_test , y_train , y_test = train_test_split(iris_data.data, iris_data.target, test_size=0.2,  random_state=11)\n",
    "\n",
    "x_data = fish_df.drop(['무게'], axis=1)\n",
    "y_data = fish_df['무게']\n",
    "\n",
    "#test_size=0.3 학습용(7) : 테스트용 (3) 으로 분할\n",
    "#random_state=777 동일한 학습/테스트용 데이터 세트를 생성 위해\n",
    "x_train, x_test, y_train, y_test = train_test_split(x_data, y_data, test_size=0.3, random_state=42)\n",
    "\n",
    "##########모델 생성\n",
    "\n",
    "# model = DecisionTreeClassifier(random_state=156,max_depth=7) # 트리성장 깊이 조절\n",
    "model = DecisionTreeClassifier(random_state=156,min_samples_leaf=5) # 리프노드의 최소 샘플 수\n",
    "# model = DecisionTreeClassifier(random_state=111,min_samples_leaf=2,max_depth=3) # 리프노드 & 트리성장 깊이 조절 중 어느것이 우선?\n",
    "\n",
    "##########모델 학습\n",
    "\n",
    "model.fit(x_train, y_train)\n",
    "\n",
    "##########모델 검증\n",
    "\n",
    "# print(model.score(x_train, y_train)) #0.9371680443381393\n",
    "# print(model.score(x_test, y_test)) #0.8324765337629763\n",
    "\n",
    "\n",
    "# y_predict = model.predict(x_train) # 훈련 데이터 예측\n",
    "# evaluate_reg_all(y_train, y_predict) #훈련 데이터에 대한 평가\n",
    "\n",
    "y_predict = model.predict(x_test) # 테스트 데이터 예측\n",
    "evaluate_reg_all(y_test, y_predict) #테스트 데이터에 대한 평가\n",
    "\n",
    "\n",
    "################################################################# 개발 끝\n",
    "##########모델 실제 예측\n",
    "\n",
    "x_real = np.array([\n",
    "    [49]\n",
    "])\n",
    "\n",
    "y_real_predict = model.predict(x_real)\n",
    "\n",
    "print(f'실제 예측값:{y_real_predict[0]}') #1245.423930742852\n",
    "\n",
    "#model객체에 coef_와 intercept_ 속성에 저장되어 있음\n",
    "# print(model.coef_ , model.intercept_)"
   ]
  },
  {
   "cell_type": "code",
   "execution_count": null,
   "metadata": {},
   "outputs": [],
   "source": []
  }
 ],
 "metadata": {
  "kernelspec": {
   "display_name": "Python 3",
   "language": "python",
   "name": "python3"
  },
  "language_info": {
   "codemirror_mode": {
    "name": "ipython",
    "version": 3
   },
   "file_extension": ".py",
   "mimetype": "text/x-python",
   "name": "python",
   "nbconvert_exporter": "python",
   "pygments_lexer": "ipython3",
   "version": "3.10.11"
  },
  "orig_nbformat": 4
 },
 "nbformat": 4,
 "nbformat_minor": 2
}
