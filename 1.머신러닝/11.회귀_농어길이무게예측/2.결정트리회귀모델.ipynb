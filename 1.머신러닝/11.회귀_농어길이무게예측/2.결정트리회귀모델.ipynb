{
 "cells": [
  {
   "cell_type": "code",
   "execution_count": 1,
   "metadata": {},
   "outputs": [],
   "source": [
    "from sklearn.metrics import r2_score\n",
    "from sklearn.metrics import mean_squared_error\n",
    "from sklearn.metrics import mean_absolute_error\n",
    "from sklearn.metrics import mean_squared_log_error\n",
    "\n",
    "def evaluate_reg_all(y_test, y_predict):\n",
    "    MSE = mean_squared_error(y_test,y_predict,squared=True)\n",
    "    RMSE = mean_squared_error(y_test,y_predict,squared=False)\n",
    "    MAE = mean_absolute_error(y_test,y_predict)\n",
    "    R2 = r2_score(y_test,y_predict)\n",
    "    \n",
    "    print(f'MSE: {MSE:.3f}, RMSE: {RMSE:.3F}, MAE: {MAE:.3F}, R^2: {R2:.3F}')"
   ]
  },
  {
   "cell_type": "code",
   "execution_count": 22,
   "metadata": {},
   "outputs": [
    {
     "ename": "ValueError",
     "evalue": "Found input variables with inconsistent numbers of samples: [17, 1]",
     "output_type": "error",
     "traceback": [
      "\u001b[1;31m---------------------------------------------------------------------------\u001b[0m",
      "\u001b[1;31mValueError\u001b[0m                                Traceback (most recent call last)",
      "\u001b[1;32mc:\\Data_study\\1.머신러닝\\11.회귀_농어길이무게예측\\2.결정트리회귀모델.ipynb Cell 2\u001b[0m line \u001b[0;36m5\n\u001b[0;32m     <a href='vscode-notebook-cell:/c%3A/Data_study/1.%EB%A8%B8%EC%8B%A0%EB%9F%AC%EB%8B%9D/11.%ED%9A%8C%EA%B7%80_%EB%86%8D%EC%96%B4%EA%B8%B8%EC%9D%B4%EB%AC%B4%EA%B2%8C%EC%98%88%EC%B8%A1/2.%EA%B2%B0%EC%A0%95%ED%8A%B8%EB%A6%AC%ED%9A%8C%EA%B7%80%EB%AA%A8%EB%8D%B8.ipynb#W0sZmlsZQ%3D%3D?line=53'>54</a>\u001b[0m x_real \u001b[39m=\u001b[39m np\u001b[39m.\u001b[39marray([\n\u001b[0;32m     <a href='vscode-notebook-cell:/c%3A/Data_study/1.%EB%A8%B8%EC%8B%A0%EB%9F%AC%EB%8B%9D/11.%ED%9A%8C%EA%B7%80_%EB%86%8D%EC%96%B4%EA%B8%B8%EC%9D%B4%EB%AC%B4%EA%B2%8C%EC%98%88%EC%B8%A1/2.%EA%B2%B0%EC%A0%95%ED%8A%B8%EB%A6%AC%ED%9A%8C%EA%B7%80%EB%AA%A8%EB%8D%B8.ipynb#W0sZmlsZQ%3D%3D?line=54'>55</a>\u001b[0m     [\u001b[39m50\u001b[39m]\n\u001b[0;32m     <a href='vscode-notebook-cell:/c%3A/Data_study/1.%EB%A8%B8%EC%8B%A0%EB%9F%AC%EB%8B%9D/11.%ED%9A%8C%EA%B7%80_%EB%86%8D%EC%96%B4%EA%B8%B8%EC%9D%B4%EB%AC%B4%EA%B2%8C%EC%98%88%EC%B8%A1/2.%EA%B2%B0%EC%A0%95%ED%8A%B8%EB%A6%AC%ED%9A%8C%EA%B7%80%EB%AA%A8%EB%8D%B8.ipynb#W0sZmlsZQ%3D%3D?line=55'>56</a>\u001b[0m ])\n\u001b[0;32m     <a href='vscode-notebook-cell:/c%3A/Data_study/1.%EB%A8%B8%EC%8B%A0%EB%9F%AC%EB%8B%9D/11.%ED%9A%8C%EA%B7%80_%EB%86%8D%EC%96%B4%EA%B8%B8%EC%9D%B4%EB%AC%B4%EA%B2%8C%EC%98%88%EC%B8%A1/2.%EA%B2%B0%EC%A0%95%ED%8A%B8%EB%A6%AC%ED%9A%8C%EA%B7%80%EB%AA%A8%EB%8D%B8.ipynb#W0sZmlsZQ%3D%3D?line=57'>58</a>\u001b[0m y_real_predict \u001b[39m=\u001b[39m model\u001b[39m.\u001b[39mpredict(x_real)\n\u001b[1;32m---> <a href='vscode-notebook-cell:/c%3A/Data_study/1.%EB%A8%B8%EC%8B%A0%EB%9F%AC%EB%8B%9D/11.%ED%9A%8C%EA%B7%80_%EB%86%8D%EC%96%B4%EA%B8%B8%EC%9D%B4%EB%AC%B4%EA%B2%8C%EC%98%88%EC%B8%A1/2.%EA%B2%B0%EC%A0%95%ED%8A%B8%EB%A6%AC%ED%9A%8C%EA%B7%80%EB%AA%A8%EB%8D%B8.ipynb#W0sZmlsZQ%3D%3D?line=58'>59</a>\u001b[0m evaluate_reg_all(y_test, y_real_predict) \u001b[39m#테스트 데이터에 대한 평가\u001b[39;00m\n\u001b[0;32m     <a href='vscode-notebook-cell:/c%3A/Data_study/1.%EB%A8%B8%EC%8B%A0%EB%9F%AC%EB%8B%9D/11.%ED%9A%8C%EA%B7%80_%EB%86%8D%EC%96%B4%EA%B8%B8%EC%9D%B4%EB%AC%B4%EA%B2%8C%EC%98%88%EC%B8%A1/2.%EA%B2%B0%EC%A0%95%ED%8A%B8%EB%A6%AC%ED%9A%8C%EA%B7%80%EB%AA%A8%EB%8D%B8.ipynb#W0sZmlsZQ%3D%3D?line=60'>61</a>\u001b[0m \u001b[39mprint\u001b[39m(\u001b[39mf\u001b[39m\u001b[39m'\u001b[39m\u001b[39m실제 예측값:\u001b[39m\u001b[39m{\u001b[39;00my_real_predict[\u001b[39m0\u001b[39m]\u001b[39m}\u001b[39;00m\u001b[39m'\u001b[39m) \u001b[39m#1245.423930742852\u001b[39;00m\n\u001b[0;32m     <a href='vscode-notebook-cell:/c%3A/Data_study/1.%EB%A8%B8%EC%8B%A0%EB%9F%AC%EB%8B%9D/11.%ED%9A%8C%EA%B7%80_%EB%86%8D%EC%96%B4%EA%B8%B8%EC%9D%B4%EB%AC%B4%EA%B2%8C%EC%98%88%EC%B8%A1/2.%EA%B2%B0%EC%A0%95%ED%8A%B8%EB%A6%AC%ED%9A%8C%EA%B7%80%EB%AA%A8%EB%8D%B8.ipynb#W0sZmlsZQ%3D%3D?line=62'>63</a>\u001b[0m \u001b[39m#model객체에 coef_와 intercept_ 속성에 저장되어 있음\u001b[39;00m\n\u001b[0;32m     <a href='vscode-notebook-cell:/c%3A/Data_study/1.%EB%A8%B8%EC%8B%A0%EB%9F%AC%EB%8B%9D/11.%ED%9A%8C%EA%B7%80_%EB%86%8D%EC%96%B4%EA%B8%B8%EC%9D%B4%EB%AC%B4%EA%B2%8C%EC%98%88%EC%B8%A1/2.%EA%B2%B0%EC%A0%95%ED%8A%B8%EB%A6%AC%ED%9A%8C%EA%B7%80%EB%AA%A8%EB%8D%B8.ipynb#W0sZmlsZQ%3D%3D?line=63'>64</a>\u001b[0m \u001b[39m# print(model.coef_ , model.intercept_)\u001b[39;00m\n",
      "\u001b[1;32mc:\\Data_study\\1.머신러닝\\11.회귀_농어길이무게예측\\2.결정트리회귀모델.ipynb Cell 2\u001b[0m line \u001b[0;36m7\n\u001b[0;32m      <a href='vscode-notebook-cell:/c%3A/Data_study/1.%EB%A8%B8%EC%8B%A0%EB%9F%AC%EB%8B%9D/11.%ED%9A%8C%EA%B7%80_%EB%86%8D%EC%96%B4%EA%B8%B8%EC%9D%B4%EB%AC%B4%EA%B2%8C%EC%98%88%EC%B8%A1/2.%EA%B2%B0%EC%A0%95%ED%8A%B8%EB%A6%AC%ED%9A%8C%EA%B7%80%EB%AA%A8%EB%8D%B8.ipynb#W0sZmlsZQ%3D%3D?line=5'>6</a>\u001b[0m \u001b[39mdef\u001b[39;00m \u001b[39mevaluate_reg_all\u001b[39m(y_test, y_predict):\n\u001b[1;32m----> <a href='vscode-notebook-cell:/c%3A/Data_study/1.%EB%A8%B8%EC%8B%A0%EB%9F%AC%EB%8B%9D/11.%ED%9A%8C%EA%B7%80_%EB%86%8D%EC%96%B4%EA%B8%B8%EC%9D%B4%EB%AC%B4%EA%B2%8C%EC%98%88%EC%B8%A1/2.%EA%B2%B0%EC%A0%95%ED%8A%B8%EB%A6%AC%ED%9A%8C%EA%B7%80%EB%AA%A8%EB%8D%B8.ipynb#W0sZmlsZQ%3D%3D?line=6'>7</a>\u001b[0m     MSE \u001b[39m=\u001b[39m mean_squared_error(y_test,y_predict,squared\u001b[39m=\u001b[39;49m\u001b[39mTrue\u001b[39;49;00m)\n\u001b[0;32m      <a href='vscode-notebook-cell:/c%3A/Data_study/1.%EB%A8%B8%EC%8B%A0%EB%9F%AC%EB%8B%9D/11.%ED%9A%8C%EA%B7%80_%EB%86%8D%EC%96%B4%EA%B8%B8%EC%9D%B4%EB%AC%B4%EA%B2%8C%EC%98%88%EC%B8%A1/2.%EA%B2%B0%EC%A0%95%ED%8A%B8%EB%A6%AC%ED%9A%8C%EA%B7%80%EB%AA%A8%EB%8D%B8.ipynb#W0sZmlsZQ%3D%3D?line=7'>8</a>\u001b[0m     RMSE \u001b[39m=\u001b[39m mean_squared_error(y_test,y_predict,squared\u001b[39m=\u001b[39m\u001b[39mFalse\u001b[39;00m)\n\u001b[0;32m      <a href='vscode-notebook-cell:/c%3A/Data_study/1.%EB%A8%B8%EC%8B%A0%EB%9F%AC%EB%8B%9D/11.%ED%9A%8C%EA%B7%80_%EB%86%8D%EC%96%B4%EA%B8%B8%EC%9D%B4%EB%AC%B4%EA%B2%8C%EC%98%88%EC%B8%A1/2.%EA%B2%B0%EC%A0%95%ED%8A%B8%EB%A6%AC%ED%9A%8C%EA%B7%80%EB%AA%A8%EB%8D%B8.ipynb#W0sZmlsZQ%3D%3D?line=8'>9</a>\u001b[0m     MAE \u001b[39m=\u001b[39m mean_absolute_error(y_test,y_predict)\n",
      "File \u001b[1;32mc:\\Python\\Python310\\lib\\site-packages\\sklearn\\utils\\_param_validation.py:211\u001b[0m, in \u001b[0;36mvalidate_params.<locals>.decorator.<locals>.wrapper\u001b[1;34m(*args, **kwargs)\u001b[0m\n\u001b[0;32m    205\u001b[0m \u001b[39mtry\u001b[39;00m:\n\u001b[0;32m    206\u001b[0m     \u001b[39mwith\u001b[39;00m config_context(\n\u001b[0;32m    207\u001b[0m         skip_parameter_validation\u001b[39m=\u001b[39m(\n\u001b[0;32m    208\u001b[0m             prefer_skip_nested_validation \u001b[39mor\u001b[39;00m global_skip_validation\n\u001b[0;32m    209\u001b[0m         )\n\u001b[0;32m    210\u001b[0m     ):\n\u001b[1;32m--> 211\u001b[0m         \u001b[39mreturn\u001b[39;00m func(\u001b[39m*\u001b[39margs, \u001b[39m*\u001b[39m\u001b[39m*\u001b[39mkwargs)\n\u001b[0;32m    212\u001b[0m \u001b[39mexcept\u001b[39;00m InvalidParameterError \u001b[39mas\u001b[39;00m e:\n\u001b[0;32m    213\u001b[0m     \u001b[39m# When the function is just a wrapper around an estimator, we allow\u001b[39;00m\n\u001b[0;32m    214\u001b[0m     \u001b[39m# the function to delegate validation to the estimator, but we replace\u001b[39;00m\n\u001b[0;32m    215\u001b[0m     \u001b[39m# the name of the estimator by the name of the function in the error\u001b[39;00m\n\u001b[0;32m    216\u001b[0m     \u001b[39m# message to avoid confusion.\u001b[39;00m\n\u001b[0;32m    217\u001b[0m     msg \u001b[39m=\u001b[39m re\u001b[39m.\u001b[39msub(\n\u001b[0;32m    218\u001b[0m         \u001b[39mr\u001b[39m\u001b[39m\"\u001b[39m\u001b[39mparameter of \u001b[39m\u001b[39m\\\u001b[39m\u001b[39mw+ must be\u001b[39m\u001b[39m\"\u001b[39m,\n\u001b[0;32m    219\u001b[0m         \u001b[39mf\u001b[39m\u001b[39m\"\u001b[39m\u001b[39mparameter of \u001b[39m\u001b[39m{\u001b[39;00mfunc\u001b[39m.\u001b[39m\u001b[39m__qualname__\u001b[39m\u001b[39m}\u001b[39;00m\u001b[39m must be\u001b[39m\u001b[39m\"\u001b[39m,\n\u001b[0;32m    220\u001b[0m         \u001b[39mstr\u001b[39m(e),\n\u001b[0;32m    221\u001b[0m     )\n",
      "File \u001b[1;32mc:\\Python\\Python310\\lib\\site-packages\\sklearn\\metrics\\_regression.py:474\u001b[0m, in \u001b[0;36mmean_squared_error\u001b[1;34m(y_true, y_pred, sample_weight, multioutput, squared)\u001b[0m\n\u001b[0;32m    404\u001b[0m \u001b[39m@validate_params\u001b[39m(\n\u001b[0;32m    405\u001b[0m     {\n\u001b[0;32m    406\u001b[0m         \u001b[39m\"\u001b[39m\u001b[39my_true\u001b[39m\u001b[39m\"\u001b[39m: [\u001b[39m\"\u001b[39m\u001b[39marray-like\u001b[39m\u001b[39m\"\u001b[39m],\n\u001b[1;32m   (...)\u001b[0m\n\u001b[0;32m    415\u001b[0m     y_true, y_pred, \u001b[39m*\u001b[39m, sample_weight\u001b[39m=\u001b[39m\u001b[39mNone\u001b[39;00m, multioutput\u001b[39m=\u001b[39m\u001b[39m\"\u001b[39m\u001b[39muniform_average\u001b[39m\u001b[39m\"\u001b[39m, squared\u001b[39m=\u001b[39m\u001b[39mTrue\u001b[39;00m\n\u001b[0;32m    416\u001b[0m ):\n\u001b[0;32m    417\u001b[0m \u001b[39m    \u001b[39m\u001b[39m\"\"\"Mean squared error regression loss.\u001b[39;00m\n\u001b[0;32m    418\u001b[0m \n\u001b[0;32m    419\u001b[0m \u001b[39m    Read more in the :ref:`User Guide <mean_squared_error>`.\u001b[39;00m\n\u001b[1;32m   (...)\u001b[0m\n\u001b[0;32m    472\u001b[0m \u001b[39m    0.825...\u001b[39;00m\n\u001b[0;32m    473\u001b[0m \u001b[39m    \"\"\"\u001b[39;00m\n\u001b[1;32m--> 474\u001b[0m     y_type, y_true, y_pred, multioutput \u001b[39m=\u001b[39m _check_reg_targets(\n\u001b[0;32m    475\u001b[0m         y_true, y_pred, multioutput\n\u001b[0;32m    476\u001b[0m     )\n\u001b[0;32m    477\u001b[0m     check_consistent_length(y_true, y_pred, sample_weight)\n\u001b[0;32m    478\u001b[0m     output_errors \u001b[39m=\u001b[39m np\u001b[39m.\u001b[39maverage((y_true \u001b[39m-\u001b[39m y_pred) \u001b[39m*\u001b[39m\u001b[39m*\u001b[39m \u001b[39m2\u001b[39m, axis\u001b[39m=\u001b[39m\u001b[39m0\u001b[39m, weights\u001b[39m=\u001b[39msample_weight)\n",
      "File \u001b[1;32mc:\\Python\\Python310\\lib\\site-packages\\sklearn\\metrics\\_regression.py:99\u001b[0m, in \u001b[0;36m_check_reg_targets\u001b[1;34m(y_true, y_pred, multioutput, dtype)\u001b[0m\n\u001b[0;32m     65\u001b[0m \u001b[39mdef\u001b[39;00m \u001b[39m_check_reg_targets\u001b[39m(y_true, y_pred, multioutput, dtype\u001b[39m=\u001b[39m\u001b[39m\"\u001b[39m\u001b[39mnumeric\u001b[39m\u001b[39m\"\u001b[39m):\n\u001b[0;32m     66\u001b[0m \u001b[39m    \u001b[39m\u001b[39m\"\"\"Check that y_true and y_pred belong to the same regression task.\u001b[39;00m\n\u001b[0;32m     67\u001b[0m \n\u001b[0;32m     68\u001b[0m \u001b[39m    Parameters\u001b[39;00m\n\u001b[1;32m   (...)\u001b[0m\n\u001b[0;32m     97\u001b[0m \u001b[39m        correct keyword.\u001b[39;00m\n\u001b[0;32m     98\u001b[0m \u001b[39m    \"\"\"\u001b[39;00m\n\u001b[1;32m---> 99\u001b[0m     check_consistent_length(y_true, y_pred)\n\u001b[0;32m    100\u001b[0m     y_true \u001b[39m=\u001b[39m check_array(y_true, ensure_2d\u001b[39m=\u001b[39m\u001b[39mFalse\u001b[39;00m, dtype\u001b[39m=\u001b[39mdtype)\n\u001b[0;32m    101\u001b[0m     y_pred \u001b[39m=\u001b[39m check_array(y_pred, ensure_2d\u001b[39m=\u001b[39m\u001b[39mFalse\u001b[39;00m, dtype\u001b[39m=\u001b[39mdtype)\n",
      "File \u001b[1;32mc:\\Python\\Python310\\lib\\site-packages\\sklearn\\utils\\validation.py:409\u001b[0m, in \u001b[0;36mcheck_consistent_length\u001b[1;34m(*arrays)\u001b[0m\n\u001b[0;32m    407\u001b[0m uniques \u001b[39m=\u001b[39m np\u001b[39m.\u001b[39munique(lengths)\n\u001b[0;32m    408\u001b[0m \u001b[39mif\u001b[39;00m \u001b[39mlen\u001b[39m(uniques) \u001b[39m>\u001b[39m \u001b[39m1\u001b[39m:\n\u001b[1;32m--> 409\u001b[0m     \u001b[39mraise\u001b[39;00m \u001b[39mValueError\u001b[39;00m(\n\u001b[0;32m    410\u001b[0m         \u001b[39m\"\u001b[39m\u001b[39mFound input variables with inconsistent numbers of samples: \u001b[39m\u001b[39m%r\u001b[39;00m\u001b[39m\"\u001b[39m\n\u001b[0;32m    411\u001b[0m         \u001b[39m%\u001b[39m [\u001b[39mint\u001b[39m(l) \u001b[39mfor\u001b[39;00m l \u001b[39min\u001b[39;00m lengths]\n\u001b[0;32m    412\u001b[0m     )\n",
      "\u001b[1;31mValueError\u001b[0m: Found input variables with inconsistent numbers of samples: [17, 1]"
     ]
    }
   ],
   "source": [
    "import pandas as pd\n",
    "import numpy as np\n",
    "from sklearn.model_selection import train_test_split\n",
    "\n",
    "from sklearn.tree import DecisionTreeRegressor\n",
    "from sklearn.tree import DecisionTreeClassifier\n",
    "from sklearn.tree import plot_tree\n",
    "\n",
    "# 경고메세지 끄기\n",
    "import warnings\n",
    "warnings.filterwarnings(action='ignore')\n",
    "\n",
    "##########데이터 로드\n",
    "fish_df = pd.read_csv('./data/fish.csv')\n",
    "\n",
    "##########데이터 분석\n",
    "\n",
    "##########데이터 전처리\n",
    "\n",
    "# x_train , x_test , y_train , y_test = train_test_split(iris_data.data, iris_data.target, test_size=0.2,  random_state=11)\n",
    "\n",
    "x_data = fish_df.drop(['무게'], axis=1)\n",
    "y_data = fish_df['무게']\n",
    "\n",
    "#test_size=0.3 학습용(7) : 테스트용 (3) 으로 분할\n",
    "#random_state=777 동일한 학습/테스트용 데이터 세트를 생성 위해\n",
    "x_train, x_test, y_train, y_test = train_test_split(x_data, y_data, test_size=0.3, random_state=42)\n",
    "\n",
    "##########모델 생성\n",
    "\n",
    "# model = DecisionTreeClassifier(random_state=156,max_depth=7) # 트리성장 깊이 조절\n",
    "model = DecisionTreeClassifier(random_state=156,min_samples_leaf=5) # 리프노드의 최소 샘플 수\n",
    "# model = DecisionTreeClassifier(random_state=111,min_samples_leaf=2,max_depth=3) # 리프노드 & 트리성장 깊이 조절 중 어느것이 우선?\n",
    "\n",
    "##########모델 학습\n",
    "\n",
    "model.fit(x_train, y_train)\n",
    "\n",
    "##########모델 검증\n",
    "\n",
    "# print(model.score(x_train, y_train)) #0.9371680443381393\n",
    "# print(model.score(x_test, y_test)) #0.8324765337629763\n",
    "\n",
    "\n",
    "# y_predict = model.predict(x_train) # 훈련 데이터 예측\n",
    "# evaluate_reg_all(y_train, y_predict) #훈련 데이터에 대한 평가\n",
    "\n",
    "y_predict = model.predict(x_test) # 테스트 데이터 예측\n",
    "\n",
    "\n",
    "################################################################# 개발 끝\n",
    "##########모델 실제 예측\n",
    "\n",
    "x_real = np.array([\n",
    "    [50]\n",
    "])\n",
    "\n",
    "y_real_predict = model.predict(x_real)\n",
    "evaluate_reg_all(y_test, y_real_predict) #테스트 데이터에 대한 평가\n",
    "\n",
    "print(f'실제 예측값:{y_real_predict[0]}') #1245.423930742852\n",
    "\n",
    "#model객체에 coef_와 intercept_ 속성에 저장되어 있음\n",
    "# print(model.coef_ , model.intercept_)"
   ]
  },
  {
   "cell_type": "code",
   "execution_count": null,
   "metadata": {},
   "outputs": [],
   "source": []
  }
 ],
 "metadata": {
  "kernelspec": {
   "display_name": "Python 3",
   "language": "python",
   "name": "python3"
  },
  "language_info": {
   "codemirror_mode": {
    "name": "ipython",
    "version": 3
   },
   "file_extension": ".py",
   "mimetype": "text/x-python",
   "name": "python",
   "nbconvert_exporter": "python",
   "pygments_lexer": "ipython3",
   "version": "3.10.11"
  },
  "orig_nbformat": 4
 },
 "nbformat": 4,
 "nbformat_minor": 2
}
