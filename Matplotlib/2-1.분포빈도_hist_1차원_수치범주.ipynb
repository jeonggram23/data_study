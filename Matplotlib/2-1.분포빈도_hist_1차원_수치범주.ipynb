{
 "cells": [
  {
   "cell_type": "markdown",
   "metadata": {},
   "source": [
    "## 히스토그램\n",
    "\n",
    "* 특정 구간에 속하는 자료의 개수를 나타냅니다. \n",
    "* 특정 구간을 왜 나눌까?\n",
    "* 구간을 나누면 개별적인 데이터를 보는 것보다 데이터의 전체적인 분포를 볼 수 있기 때문입니다. \n",
    "* 즉, 모양(분포)를 요약해서 볼 수 있기 때문입니다. "
   ]
  },
  {
   "cell_type": "markdown",
   "metadata": {},
   "source": [
    "\n",
    "* 범주형 변수: 각 범주에 해당하는 데이터 개수\n",
    "* 수치형 변수: min,max 사이에 구간을 나누고 해당 구간에 들어가는 데이터 개수"
   ]
  },
  {
   "cell_type": "code",
   "execution_count": 7,
   "metadata": {},
   "outputs": [
    {
     "data": {
      "text/html": [
       "<div>\n",
       "<style scoped>\n",
       "    .dataframe tbody tr th:only-of-type {\n",
       "        vertical-align: middle;\n",
       "    }\n",
       "\n",
       "    .dataframe tbody tr th {\n",
       "        vertical-align: top;\n",
       "    }\n",
       "\n",
       "    .dataframe thead th {\n",
       "        text-align: right;\n",
       "    }\n",
       "</style>\n",
       "<table border=\"1\" class=\"dataframe\">\n",
       "  <thead>\n",
       "    <tr style=\"text-align: right;\">\n",
       "      <th></th>\n",
       "      <th>지역</th>\n",
       "      <th>규모</th>\n",
       "      <th>연도</th>\n",
       "      <th>월</th>\n",
       "      <th>분양가</th>\n",
       "    </tr>\n",
       "  </thead>\n",
       "  <tbody>\n",
       "    <tr>\n",
       "      <th>0</th>\n",
       "      <td>서울</td>\n",
       "      <td>60㎡이하</td>\n",
       "      <td>2015</td>\n",
       "      <td>10</td>\n",
       "      <td>5652</td>\n",
       "    </tr>\n",
       "    <tr>\n",
       "      <th>1</th>\n",
       "      <td>서울</td>\n",
       "      <td>60㎡초과 85㎡이하</td>\n",
       "      <td>2015</td>\n",
       "      <td>10</td>\n",
       "      <td>5882</td>\n",
       "    </tr>\n",
       "    <tr>\n",
       "      <th>2</th>\n",
       "      <td>서울</td>\n",
       "      <td>85㎡초과 102㎡이하</td>\n",
       "      <td>2015</td>\n",
       "      <td>10</td>\n",
       "      <td>5721</td>\n",
       "    </tr>\n",
       "    <tr>\n",
       "      <th>3</th>\n",
       "      <td>서울</td>\n",
       "      <td>102㎡초과</td>\n",
       "      <td>2015</td>\n",
       "      <td>10</td>\n",
       "      <td>5879</td>\n",
       "    </tr>\n",
       "    <tr>\n",
       "      <th>4</th>\n",
       "      <td>인천</td>\n",
       "      <td>60㎡이하</td>\n",
       "      <td>2015</td>\n",
       "      <td>10</td>\n",
       "      <td>3488</td>\n",
       "    </tr>\n",
       "  </tbody>\n",
       "</table>\n",
       "</div>"
      ],
      "text/plain": [
       "   지역             규모    연도   월   분양가\n",
       "0  서울          60㎡이하  2015  10  5652\n",
       "1  서울    60㎡초과 85㎡이하  2015  10  5882\n",
       "2  서울   85㎡초과 102㎡이하  2015  10  5721\n",
       "3  서울         102㎡초과  2015  10  5879\n",
       "4  인천          60㎡이하  2015  10  3488"
      ]
     },
     "execution_count": 7,
     "metadata": {},
     "output_type": "execute_result"
    }
   ],
   "source": [
    "import pandas as pd\n",
    "import matplotlib.pyplot as plt\n",
    "\n",
    "# 1. 기본 스타일\n",
    "## 폰트 설정 및 마이너스 부호 설정\n",
    "plt.rc('font', family='NanumGothic') #나눔 글꼴로 설정\n",
    "#plt.rc('font', family='Malgun Gothic') #맑은 고딕으로 설정\n",
    "#plt.rc('font', family='AppleGothic') #맥\n",
    "plt.rcParams['axes.unicode_minus'] = False #부호\n",
    "\n",
    "plt.rcParams['figure.figsize'] = (8, 3)\n",
    "plt.rcParams['font.size'] = 8\n",
    "\n",
    "df = pd.read_csv('./data/house-price.csv')\n",
    "df.head()"
   ]
  },
  {
   "cell_type": "code",
   "execution_count": 2,
   "metadata": {},
   "outputs": [
    {
     "name": "stdout",
     "output_type": "stream",
     "text": [
      "<class 'pandas.core.frame.DataFrame'>\n",
      "RangeIndex: 3293 entries, 0 to 3292\n",
      "Data columns (total 5 columns):\n",
      " #   Column  Non-Null Count  Dtype \n",
      "---  ------  --------------  ----- \n",
      " 0   지역      3293 non-null   object\n",
      " 1   규모      3293 non-null   object\n",
      " 2   연도      3293 non-null   int64 \n",
      " 3   월       3293 non-null   int64 \n",
      " 4   분양가     3293 non-null   int64 \n",
      "dtypes: int64(3), object(2)\n",
      "memory usage: 128.8+ KB\n"
     ]
    }
   ],
   "source": [
    "df.info()"
   ]
  },
  {
   "cell_type": "markdown",
   "metadata": {},
   "source": [
    "```\n",
    "[데이터를 만났을 때 제일 처음 파악해야 하는 요소]\n",
    "1. 데이터 건수, 관측치 개수, 행 수, ROW 수, 인스턴스 ? 3293\n",
    "2. 피쳐수, 컬럼 수, 속성 수, 변수 개수 ? 5\n",
    "3. 각 피쳐의 타입 적절성 파악 o\n",
    "4. 결측치 여부? x\n",
    "\n",
    "```"
   ]
  },
  {
   "cell_type": "markdown",
   "metadata": {},
   "source": [
    "```\n",
    "1.범주형 피처는? 지역, 규모, 연도, 월,\n",
    "2.수치형 피처는?  분양가, 연도, 월\n",
    "```"
   ]
  },
  {
   "cell_type": "code",
   "execution_count": 8,
   "metadata": {},
   "outputs": [
    {
     "data": {
      "text/plain": [
       "<Axes: >"
      ]
     },
     "execution_count": 8,
     "metadata": {},
     "output_type": "execute_result"
    },
    {
     "data": {
      "image/png": "[encoded data removed]",
      "text/plain": [
       "<Figure size 800x300 with 1 Axes>"
      ]
     },
     "metadata": {},
     "output_type": "display_data"
    }
   ],
   "source": [
    "#각 지역별 빈도수/ 지역 피처의 클래스 종류와 빈도수 \n",
    "\n",
    "df['지역'].hist()"
   ]
  },
  {
   "cell_type": "code",
   "execution_count": 9,
   "metadata": {},
   "outputs": [
    {
     "data": {
      "text/plain": [
       "<Axes: >"
      ]
     },
     "execution_count": 9,
     "metadata": {},
     "output_type": "execute_result"
    },
    {
     "data": {
      "image/png": "[encoded data removed]",
      "text/plain": [
       "<Figure size 800x300 with 1 Axes>"
      ]
     },
     "metadata": {},
     "output_type": "display_data"
    }
   ],
   "source": [
    "# 규모별 빈도수\n",
    "df['규모'].hist()"
   ]
  },
  {
   "cell_type": "code",
   "execution_count": 10,
   "metadata": {},
   "outputs": [
    {
     "data": {
      "text/plain": [
       "<Axes: >"
      ]
     },
     "execution_count": 10,
     "metadata": {},
     "output_type": "execute_result"
    },
    {
     "data": {
      "image/png": "[encoded data removed]",
      "text/plain": [
       "<Figure size 800x300 with 1 Axes>"
      ]
     },
     "metadata": {},
     "output_type": "display_data"
    }
   ],
   "source": [
    "#년도별 빈도수\n",
    "df['연도'].hist()"
   ]
  },
  {
   "cell_type": "code",
   "execution_count": 11,
   "metadata": {},
   "outputs": [
    {
     "data": {
      "text/plain": [
       "연도\n",
       "2016    780\n",
       "2017    771\n",
       "2018    716\n",
       "2019    716\n",
       "2015    192\n",
       "2020    118\n",
       "Name: count, dtype: int64"
      ]
     },
     "execution_count": 11,
     "metadata": {},
     "output_type": "execute_result"
    }
   ],
   "source": [
    "df['연도'].value_counts()"
   ]
  },
  {
   "cell_type": "code",
   "execution_count": 13,
   "metadata": {},
   "outputs": [
    {
     "data": {
      "text/plain": [
       "<Axes: >"
      ]
     },
     "execution_count": 13,
     "metadata": {},
     "output_type": "execute_result"
    },
    {
     "data": {
      "image/png": "[encoded data removed]",
      "text/plain": [
       "<Figure size 800x300 with 1 Axes>"
      ]
     },
     "metadata": {},
     "output_type": "display_data"
    }
   ],
   "source": [
    "#월 별 빈도수/ 월 별 관측수\n",
    "df['월'].hist()"
   ]
  },
  {
   "cell_type": "code",
   "execution_count": 14,
   "metadata": {},
   "outputs": [
    {
     "data": {
      "text/plain": [
       "<Axes: >"
      ]
     },
     "execution_count": 14,
     "metadata": {},
     "output_type": "execute_result"
    },
    {
     "data": {
      "image/png": "[encoded data removed]",
      "text/plain": [
       "<Figure size 800x300 with 1 Axes>"
      ]
     },
     "metadata": {},
     "output_type": "display_data"
    }
   ],
   "source": [
    "#분양가 히스토그램\n",
    "df['분양가'].hist()"
   ]
  },
  {
   "cell_type": "code",
   "execution_count": 15,
   "metadata": {},
   "outputs": [
    {
     "data": {
      "text/plain": [
       "<Axes: >"
      ]
     },
     "execution_count": 15,
     "metadata": {},
     "output_type": "execute_result"
    },
    {
     "data": {
      "image/png": "[encoded data removed]",
      "text/plain": [
       "<Figure size 800x300 with 1 Axes>"
      ]
     },
     "metadata": {},
     "output_type": "display_data"
    }
   ],
   "source": [
    "#분양가 히스토그램\n",
    "df['분양가'].hist(bins=50)"
   ]
  },
  {
   "cell_type": "code",
   "execution_count": 16,
   "metadata": {},
   "outputs": [
    {
     "data": {
      "text/plain": [
       "<Axes: >"
      ]
     },
     "execution_count": 16,
     "metadata": {},
     "output_type": "execute_result"
    },
    {
     "data": {
      "image/png": "[encoded data removed]",
      "text/plain": [
       "<Figure size 800x300 with 1 Axes>"
      ]
     },
     "metadata": {},
     "output_type": "display_data"
    }
   ],
   "source": [
    "#분양가 히스토그램\n",
    "df['분양가'].hist(bins=100)"
   ]
  },
  {
   "cell_type": "markdown",
   "metadata": {},
   "source": [
    "```\n",
    "주의.\n",
    "수치형 데이터의 경우 bins(구간)를 어느 정도로 나누느냐에 따라 해석이 달라질 수 있다.\n",
    "따라서 구간을 여러 개로 설정해보고, 적절한 구간을 찾아야 한다.\n",
    "```"
   ]
  },
  {
   "cell_type": "markdown",
   "metadata": {},
   "source": [
    "---"
   ]
  },
  {
   "cell_type": "code",
   "execution_count": 17,
   "metadata": {},
   "outputs": [],
   "source": [
    "import pandas as pd\n",
    "import seaborn as sns\n",
    "import matplotlib.pyplot as plt\n",
    "\n",
    "# 1. 기본 스타일\n",
    "## 폰트 설정 및 마이너스 부호 설정\n",
    "plt.rc('font', family='NanumGothic') #나눔 글꼴로 설정\n",
    "#plt.rc('font', family='Malgun Gothic') #맑은 고딕으로 설정\n",
    "#plt.rc('font', family='AppleGothic') #맥\n",
    "plt.rcParams['axes.unicode_minus'] = False #부호\n",
    "\n",
    "plt.rcParams['figure.figsize'] = (4, 3)\n",
    "plt.rcParams['font.size'] = 8\n",
    "\n",
    "\n",
    "tit_df= sns.load_dataset(\"titanic\")"
   ]
  },
  {
   "cell_type": "code",
   "execution_count": 18,
   "metadata": {},
   "outputs": [
    {
     "data": {
      "text/html": [
       "<div>\n",
       "<style scoped>\n",
       "    .dataframe tbody tr th:only-of-type {\n",
       "        vertical-align: middle;\n",
       "    }\n",
       "\n",
       "    .dataframe tbody tr th {\n",
       "        vertical-align: top;\n",
       "    }\n",
       "\n",
       "    .dataframe thead th {\n",
       "        text-align: right;\n",
       "    }\n",
       "</style>\n",
       "<table border=\"1\" class=\"dataframe\">\n",
       "  <thead>\n",
       "    <tr style=\"text-align: right;\">\n",
       "      <th></th>\n",
       "      <th>survived</th>\n",
       "      <th>pclass</th>\n",
       "      <th>sex</th>\n",
       "      <th>age</th>\n",
       "      <th>sibsp</th>\n",
       "      <th>parch</th>\n",
       "      <th>fare</th>\n",
       "      <th>embarked</th>\n",
       "      <th>class</th>\n",
       "      <th>who</th>\n",
       "      <th>adult_male</th>\n",
       "      <th>deck</th>\n",
       "      <th>embark_town</th>\n",
       "      <th>alive</th>\n",
       "      <th>alone</th>\n",
       "    </tr>\n",
       "  </thead>\n",
       "  <tbody>\n",
       "    <tr>\n",
       "      <th>0</th>\n",
       "      <td>0</td>\n",
       "      <td>3</td>\n",
       "      <td>male</td>\n",
       "      <td>22.0</td>\n",
       "      <td>1</td>\n",
       "      <td>0</td>\n",
       "      <td>7.2500</td>\n",
       "      <td>S</td>\n",
       "      <td>Third</td>\n",
       "      <td>man</td>\n",
       "      <td>True</td>\n",
       "      <td>NaN</td>\n",
       "      <td>Southampton</td>\n",
       "      <td>no</td>\n",
       "      <td>False</td>\n",
       "    </tr>\n",
       "    <tr>\n",
       "      <th>1</th>\n",
       "      <td>1</td>\n",
       "      <td>1</td>\n",
       "      <td>female</td>\n",
       "      <td>38.0</td>\n",
       "      <td>1</td>\n",
       "      <td>0</td>\n",
       "      <td>71.2833</td>\n",
       "      <td>C</td>\n",
       "      <td>First</td>\n",
       "      <td>woman</td>\n",
       "      <td>False</td>\n",
       "      <td>C</td>\n",
       "      <td>Cherbourg</td>\n",
       "      <td>yes</td>\n",
       "      <td>False</td>\n",
       "    </tr>\n",
       "    <tr>\n",
       "      <th>2</th>\n",
       "      <td>1</td>\n",
       "      <td>3</td>\n",
       "      <td>female</td>\n",
       "      <td>26.0</td>\n",
       "      <td>0</td>\n",
       "      <td>0</td>\n",
       "      <td>7.9250</td>\n",
       "      <td>S</td>\n",
       "      <td>Third</td>\n",
       "      <td>woman</td>\n",
       "      <td>False</td>\n",
       "      <td>NaN</td>\n",
       "      <td>Southampton</td>\n",
       "      <td>yes</td>\n",
       "      <td>True</td>\n",
       "    </tr>\n",
       "    <tr>\n",
       "      <th>3</th>\n",
       "      <td>1</td>\n",
       "      <td>1</td>\n",
       "      <td>female</td>\n",
       "      <td>35.0</td>\n",
       "      <td>1</td>\n",
       "      <td>0</td>\n",
       "      <td>53.1000</td>\n",
       "      <td>S</td>\n",
       "      <td>First</td>\n",
       "      <td>woman</td>\n",
       "      <td>False</td>\n",
       "      <td>C</td>\n",
       "      <td>Southampton</td>\n",
       "      <td>yes</td>\n",
       "      <td>False</td>\n",
       "    </tr>\n",
       "    <tr>\n",
       "      <th>4</th>\n",
       "      <td>0</td>\n",
       "      <td>3</td>\n",
       "      <td>male</td>\n",
       "      <td>35.0</td>\n",
       "      <td>0</td>\n",
       "      <td>0</td>\n",
       "      <td>8.0500</td>\n",
       "      <td>S</td>\n",
       "      <td>Third</td>\n",
       "      <td>man</td>\n",
       "      <td>True</td>\n",
       "      <td>NaN</td>\n",
       "      <td>Southampton</td>\n",
       "      <td>no</td>\n",
       "      <td>True</td>\n",
       "    </tr>\n",
       "  </tbody>\n",
       "</table>\n",
       "</div>"
      ],
      "text/plain": [
       "   survived  pclass     sex   age  sibsp  parch     fare embarked  class  \\\n",
       "0         0       3    male  22.0      1      0   7.2500        S  Third   \n",
       "1         1       1  female  38.0      1      0  71.2833        C  First   \n",
       "2         1       3  female  26.0      0      0   7.9250        S  Third   \n",
       "3         1       1  female  35.0      1      0  53.1000        S  First   \n",
       "4         0       3    male  35.0      0      0   8.0500        S  Third   \n",
       "\n",
       "     who  adult_male deck  embark_town alive  alone  \n",
       "0    man        True  NaN  Southampton    no  False  \n",
       "1  woman       False    C    Cherbourg   yes  False  \n",
       "2  woman       False  NaN  Southampton   yes   True  \n",
       "3  woman       False    C  Southampton   yes  False  \n",
       "4    man        True  NaN  Southampton    no   True  "
      ]
     },
     "execution_count": 18,
     "metadata": {},
     "output_type": "execute_result"
    }
   ],
   "source": [
    "tit_df.head()"
   ]
  },
  {
   "cell_type": "code",
   "execution_count": 19,
   "metadata": {},
   "outputs": [
    {
     "data": {
      "text/plain": [
       "sex\n",
       "male      577\n",
       "female    314\n",
       "Name: count, dtype: int64"
      ]
     },
     "execution_count": 19,
     "metadata": {},
     "output_type": "execute_result"
    }
   ],
   "source": [
    "tit_df['sex'].value_counts()"
   ]
  },
  {
   "cell_type": "code",
   "execution_count": 20,
   "metadata": {},
   "outputs": [
    {
     "data": {
      "text/plain": [
       "<Axes: >"
      ]
     },
     "execution_count": 20,
     "metadata": {},
     "output_type": "execute_result"
    },
    {
     "data": {
      "image/png": "[encoded data removed]",
      "text/plain": [
       "<Figure size 400x300 with 1 Axes>"
      ]
     },
     "metadata": {},
     "output_type": "display_data"
    }
   ],
   "source": [
    "#남/녀 빈도수\n",
    "tit_df['sex'].hist()"
   ]
  },
  {
   "cell_type": "code",
   "execution_count": 24,
   "metadata": {},
   "outputs": [
    {
     "data": {
      "text/plain": [
       "<Axes: >"
      ]
     },
     "execution_count": 24,
     "metadata": {},
     "output_type": "execute_result"
    },
    {
     "data": {
      "image/png": "[encoded data removed]",
      "text/plain": [
       "<Figure size 400x300 with 1 Axes>"
      ]
     },
     "metadata": {},
     "output_type": "display_data"
    }
   ],
   "source": [
    "#pclass내의 수준별 빈도수\n",
    "tit_df['pclass'].hist(bins=10, color='black')"
   ]
  },
  {
   "cell_type": "code",
   "execution_count": 26,
   "metadata": {},
   "outputs": [
    {
     "name": "stdout",
     "output_type": "stream",
     "text": [
      "\u001b[1;31mSignature:\u001b[0m\n",
      "\u001b[0mtit_df\u001b[0m\u001b[1;33m.\u001b[0m\u001b[0mhist\u001b[0m\u001b[1;33m(\u001b[0m\u001b[1;33m\n",
      "\u001b[0m    \u001b[0mcolumn\u001b[0m\u001b[1;33m:\u001b[0m \u001b[1;34m'IndexLabel | None'\u001b[0m \u001b[1;33m=\u001b[0m \u001b[1;32mNone\u001b[0m\u001b[1;33m,\u001b[0m\u001b[1;33m\n",
      "\u001b[0m    \u001b[0mby\u001b[0m\u001b[1;33m=\u001b[0m\u001b[1;32mNone\u001b[0m\u001b[1;33m,\u001b[0m\u001b[1;33m\n",
      "\u001b[0m    \u001b[0mgrid\u001b[0m\u001b[1;33m:\u001b[0m \u001b[1;34m'bool'\u001b[0m \u001b[1;33m=\u001b[0m \u001b[1;32mTrue\u001b[0m\u001b[1;33m,\u001b[0m\u001b[1;33m\n",
      "\u001b[0m    \u001b[0mxlabelsize\u001b[0m\u001b[1;33m:\u001b[0m \u001b[1;34m'int | None'\u001b[0m \u001b[1;33m=\u001b[0m \u001b[1;32mNone\u001b[0m\u001b[1;33m,\u001b[0m\u001b[1;33m\n",
      "\u001b[0m    \u001b[0mxrot\u001b[0m\u001b[1;33m:\u001b[0m \u001b[1;34m'float | None'\u001b[0m \u001b[1;33m=\u001b[0m \u001b[1;32mNone\u001b[0m\u001b[1;33m,\u001b[0m\u001b[1;33m\n",
      "\u001b[0m    \u001b[0mylabelsize\u001b[0m\u001b[1;33m:\u001b[0m \u001b[1;34m'int | None'\u001b[0m \u001b[1;33m=\u001b[0m \u001b[1;32mNone\u001b[0m\u001b[1;33m,\u001b[0m\u001b[1;33m\n",
      "\u001b[0m    \u001b[0myrot\u001b[0m\u001b[1;33m:\u001b[0m \u001b[1;34m'float | None'\u001b[0m \u001b[1;33m=\u001b[0m \u001b[1;32mNone\u001b[0m\u001b[1;33m,\u001b[0m\u001b[1;33m\n",
      "\u001b[0m    \u001b[0max\u001b[0m\u001b[1;33m=\u001b[0m\u001b[1;32mNone\u001b[0m\u001b[1;33m,\u001b[0m\u001b[1;33m\n",
      "\u001b[0m    \u001b[0msharex\u001b[0m\u001b[1;33m:\u001b[0m \u001b[1;34m'bool'\u001b[0m \u001b[1;33m=\u001b[0m \u001b[1;32mFalse\u001b[0m\u001b[1;33m,\u001b[0m\u001b[1;33m\n",
      "\u001b[0m    \u001b[0msharey\u001b[0m\u001b[1;33m:\u001b[0m \u001b[1;34m'bool'\u001b[0m \u001b[1;33m=\u001b[0m \u001b[1;32mFalse\u001b[0m\u001b[1;33m,\u001b[0m\u001b[1;33m\n",
      "\u001b[0m    \u001b[0mfigsize\u001b[0m\u001b[1;33m:\u001b[0m \u001b[1;34m'tuple[int, int] | None'\u001b[0m \u001b[1;33m=\u001b[0m \u001b[1;32mNone\u001b[0m\u001b[1;33m,\u001b[0m\u001b[1;33m\n",
      "\u001b[0m    \u001b[0mlayout\u001b[0m\u001b[1;33m:\u001b[0m \u001b[1;34m'tuple[int, int] | None'\u001b[0m \u001b[1;33m=\u001b[0m \u001b[1;32mNone\u001b[0m\u001b[1;33m,\u001b[0m\u001b[1;33m\n",
      "\u001b[0m    \u001b[0mbins\u001b[0m\u001b[1;33m:\u001b[0m \u001b[1;34m'int | Sequence[int]'\u001b[0m \u001b[1;33m=\u001b[0m \u001b[1;36m10\u001b[0m\u001b[1;33m,\u001b[0m\u001b[1;33m\n",
      "\u001b[0m    \u001b[0mbackend\u001b[0m\u001b[1;33m:\u001b[0m \u001b[1;34m'str | None'\u001b[0m \u001b[1;33m=\u001b[0m \u001b[1;32mNone\u001b[0m\u001b[1;33m,\u001b[0m\u001b[1;33m\n",
      "\u001b[0m    \u001b[0mlegend\u001b[0m\u001b[1;33m:\u001b[0m \u001b[1;34m'bool'\u001b[0m \u001b[1;33m=\u001b[0m \u001b[1;32mFalse\u001b[0m\u001b[1;33m,\u001b[0m\u001b[1;33m\n",
      "\u001b[0m    \u001b[1;33m**\u001b[0m\u001b[0mkwargs\u001b[0m\u001b[1;33m,\u001b[0m\u001b[1;33m\n",
      "\u001b[0m\u001b[1;33m)\u001b[0m\u001b[1;33m\u001b[0m\u001b[1;33m\u001b[0m\u001b[0m\n",
      "\u001b[1;31mDocstring:\u001b[0m\n",
      "Make a histogram of the DataFrame's columns.\n",
      "\n",
      "A `histogram`_ is a representation of the distribution of data.\n",
      "This function calls :meth:`matplotlib.pyplot.hist`, on each series in\n",
      "the DataFrame, resulting in one histogram per column.\n",
      "\n",
      ".. _histogram: https://en.wikipedia.org/wiki/Histogram\n",
      "\n",
      "Parameters\n",
      "----------\n",
      "data : DataFrame\n",
      "    The pandas object holding the data.\n",
      "column : str or sequence, optional\n",
      "    If passed, will be used to limit data to a subset of columns.\n",
      "by : object, optional\n",
      "    If passed, then used to form histograms for separate groups.\n",
      "grid : bool, default True\n",
      "    Whether to show axis grid lines.\n",
      "xlabelsize : int, default None\n",
      "    If specified changes the x-axis label size.\n",
      "xrot : float, default None\n",
      "    Rotation of x axis labels. For example, a value of 90 displays the\n",
      "    x labels rotated 90 degrees clockwise.\n",
      "ylabelsize : int, default None\n",
      "    If specified changes the y-axis label size.\n",
      "yrot : float, default None\n",
      "    Rotation of y axis labels. For example, a value of 90 displays the\n",
      "    y labels rotated 90 degrees clockwise.\n",
      "ax : Matplotlib axes object, default None\n",
      "    The axes to plot the histogram on.\n",
      "sharex : bool, default True if ax is None else False\n",
      "    In case subplots=True, share x axis and set some x axis labels to\n",
      "    invisible; defaults to True if ax is None otherwise False if an ax\n",
      "    is passed in.\n",
      "    Note that passing in both an ax and sharex=True will alter all x axis\n",
      "    labels for all subplots in a figure.\n",
      "sharey : bool, default False\n",
      "    In case subplots=True, share y axis and set some y axis labels to\n",
      "    invisible.\n",
      "figsize : tuple, optional\n",
      "    The size in inches of the figure to create. Uses the value in\n",
      "    `matplotlib.rcParams` by default.\n",
      "layout : tuple, optional\n",
      "    Tuple of (rows, columns) for the layout of the histograms.\n",
      "bins : int or sequence, default 10\n",
      "    Number of histogram bins to be used. If an integer is given, bins + 1\n",
      "    bin edges are calculated and returned. If bins is a sequence, gives\n",
      "    bin edges, including left edge of first bin and right edge of last\n",
      "    bin. In this case, bins is returned unmodified.\n",
      "\n",
      "backend : str, default None\n",
      "    Backend to use instead of the backend specified in the option\n",
      "    ``plotting.backend``. For instance, 'matplotlib'. Alternatively, to\n",
      "    specify the ``plotting.backend`` for the whole session, set\n",
      "    ``pd.options.plotting.backend``.\n",
      "\n",
      "legend : bool, default False\n",
      "    Whether to show the legend.\n",
      "\n",
      "**kwargs\n",
      "    All other plotting keyword arguments to be passed to\n",
      "    :meth:`matplotlib.pyplot.hist`.\n",
      "\n",
      "Returns\n",
      "-------\n",
      "matplotlib.AxesSubplot or numpy.ndarray of them\n",
      "\n",
      "See Also\n",
      "--------\n",
      "matplotlib.pyplot.hist : Plot a histogram using matplotlib.\n",
      "\n",
      "Examples\n",
      "--------\n",
      "This example draws a histogram based on the length and width of\n",
      "some animals, displayed in three bins\n",
      "\n",
      ".. plot::\n",
      "    :context: close-figs\n",
      "\n",
      "    >>> df = pd.DataFrame({\n",
      "    ...     'length': [1.5, 0.5, 1.2, 0.9, 3],\n",
      "    ...     'width': [0.7, 0.2, 0.15, 0.2, 1.1]\n",
      "    ...     }, index=['pig', 'rabbit', 'duck', 'chicken', 'horse'])\n",
      "    >>> hist = df.hist(bins=3)\n",
      "\u001b[1;31mFile:\u001b[0m      c:\\python\\python310\\lib\\site-packages\\pandas\\plotting\\_core.py\n",
      "\u001b[1;31mType:\u001b[0m      method"
     ]
    }
   ],
   "source": [
    "tit_df.hist?"
   ]
  },
  {
   "cell_type": "code",
   "execution_count": 25,
   "metadata": {},
   "outputs": [
    {
     "name": "stdout",
     "output_type": "stream",
     "text": [
      "\u001b[1;31mSignature:\u001b[0m\n",
      "\u001b[0mplt\u001b[0m\u001b[1;33m.\u001b[0m\u001b[0mhist\u001b[0m\u001b[1;33m(\u001b[0m\u001b[1;33m\n",
      "\u001b[0m    \u001b[0mx\u001b[0m\u001b[1;33m,\u001b[0m\u001b[1;33m\n",
      "\u001b[0m    \u001b[0mbins\u001b[0m\u001b[1;33m=\u001b[0m\u001b[1;32mNone\u001b[0m\u001b[1;33m,\u001b[0m\u001b[1;33m\n",
      "\u001b[0m    \u001b[0mrange\u001b[0m\u001b[1;33m=\u001b[0m\u001b[1;32mNone\u001b[0m\u001b[1;33m,\u001b[0m\u001b[1;33m\n",
      "\u001b[0m    \u001b[0mdensity\u001b[0m\u001b[1;33m=\u001b[0m\u001b[1;32mFalse\u001b[0m\u001b[1;33m,\u001b[0m\u001b[1;33m\n",
      "\u001b[0m    \u001b[0mweights\u001b[0m\u001b[1;33m=\u001b[0m\u001b[1;32mNone\u001b[0m\u001b[1;33m,\u001b[0m\u001b[1;33m\n",
      "\u001b[0m    \u001b[0mcumulative\u001b[0m\u001b[1;33m=\u001b[0m\u001b[1;32mFalse\u001b[0m\u001b[1;33m,\u001b[0m\u001b[1;33m\n",
      "\u001b[0m    \u001b[0mbottom\u001b[0m\u001b[1;33m=\u001b[0m\u001b[1;32mNone\u001b[0m\u001b[1;33m,\u001b[0m\u001b[1;33m\n",
      "\u001b[0m    \u001b[0mhisttype\u001b[0m\u001b[1;33m=\u001b[0m\u001b[1;34m'bar'\u001b[0m\u001b[1;33m,\u001b[0m\u001b[1;33m\n",
      "\u001b[0m    \u001b[0malign\u001b[0m\u001b[1;33m=\u001b[0m\u001b[1;34m'mid'\u001b[0m\u001b[1;33m,\u001b[0m\u001b[1;33m\n",
      "\u001b[0m    \u001b[0morientation\u001b[0m\u001b[1;33m=\u001b[0m\u001b[1;34m'vertical'\u001b[0m\u001b[1;33m,\u001b[0m\u001b[1;33m\n",
      "\u001b[0m    \u001b[0mrwidth\u001b[0m\u001b[1;33m=\u001b[0m\u001b[1;32mNone\u001b[0m\u001b[1;33m,\u001b[0m\u001b[1;33m\n",
      "\u001b[0m    \u001b[0mlog\u001b[0m\u001b[1;33m=\u001b[0m\u001b[1;32mFalse\u001b[0m\u001b[1;33m,\u001b[0m\u001b[1;33m\n",
      "\u001b[0m    \u001b[0mcolor\u001b[0m\u001b[1;33m=\u001b[0m\u001b[1;32mNone\u001b[0m\u001b[1;33m,\u001b[0m\u001b[1;33m\n",
      "\u001b[0m    \u001b[0mlabel\u001b[0m\u001b[1;33m=\u001b[0m\u001b[1;32mNone\u001b[0m\u001b[1;33m,\u001b[0m\u001b[1;33m\n",
      "\u001b[0m    \u001b[0mstacked\u001b[0m\u001b[1;33m=\u001b[0m\u001b[1;32mFalse\u001b[0m\u001b[1;33m,\u001b[0m\u001b[1;33m\n",
      "\u001b[0m    \u001b[1;33m*\u001b[0m\u001b[1;33m,\u001b[0m\u001b[1;33m\n",
      "\u001b[0m    \u001b[0mdata\u001b[0m\u001b[1;33m=\u001b[0m\u001b[1;32mNone\u001b[0m\u001b[1;33m,\u001b[0m\u001b[1;33m\n",
      "\u001b[0m    \u001b[1;33m**\u001b[0m\u001b[0mkwargs\u001b[0m\u001b[1;33m,\u001b[0m\u001b[1;33m\n",
      "\u001b[0m\u001b[1;33m)\u001b[0m\u001b[1;33m\u001b[0m\u001b[1;33m\u001b[0m\u001b[0m\n",
      "\u001b[1;31mDocstring:\u001b[0m\n",
      "Compute and plot a histogram.\n",
      "\n",
      "This method uses `numpy.histogram` to bin the data in *x* and count the\n",
      "number of values in each bin, then draws the distribution either as a\n",
      "`.BarContainer` or `.Polygon`. The *bins*, *range*, *density*, and\n",
      "*weights* parameters are forwarded to `numpy.histogram`.\n",
      "\n",
      "If the data has already been binned and counted, use `~.bar` or\n",
      "`~.stairs` to plot the distribution::\n",
      "\n",
      "    counts, bins = np.histogram(x)\n",
      "    plt.stairs(counts, bins)\n",
      "\n",
      "Alternatively, plot pre-computed bins and counts using ``hist()`` by\n",
      "treating each bin as a single point with a weight equal to its count::\n",
      "\n",
      "    plt.hist(bins[:-1], bins, weights=counts)\n",
      "\n",
      "The data input *x* can be a singular array, a list of datasets of\n",
      "potentially different lengths ([*x0*, *x1*, ...]), or a 2D ndarray in\n",
      "which each column is a dataset. Note that the ndarray form is\n",
      "transposed relative to the list form. If the input is an array, then\n",
      "the return value is a tuple (*n*, *bins*, *patches*); if the input is a\n",
      "sequence of arrays, then the return value is a tuple\n",
      "([*n0*, *n1*, ...], *bins*, [*patches0*, *patches1*, ...]).\n",
      "\n",
      "Masked arrays are not supported.\n",
      "\n",
      "Parameters\n",
      "----------\n",
      "x : (n,) array or sequence of (n,) arrays\n",
      "    Input values, this takes either a single array or a sequence of\n",
      "    arrays which are not required to be of the same length.\n",
      "\n",
      "bins : int or sequence or str, default: :rc:`hist.bins`\n",
      "    If *bins* is an integer, it defines the number of equal-width bins\n",
      "    in the range.\n",
      "\n",
      "    If *bins* is a sequence, it defines the bin edges, including the\n",
      "    left edge of the first bin and the right edge of the last bin;\n",
      "    in this case, bins may be unequally spaced.  All but the last\n",
      "    (righthand-most) bin is half-open.  In other words, if *bins* is::\n",
      "\n",
      "        [1, 2, 3, 4]\n",
      "\n",
      "    then the first bin is ``[1, 2)`` (including 1, but excluding 2) and\n",
      "    the second ``[2, 3)``.  The last bin, however, is ``[3, 4]``, which\n",
      "    *includes* 4.\n",
      "\n",
      "    If *bins* is a string, it is one of the binning strategies\n",
      "    supported by `numpy.histogram_bin_edges`: 'auto', 'fd', 'doane',\n",
      "    'scott', 'stone', 'rice', 'sturges', or 'sqrt'.\n",
      "\n",
      "range : tuple or None, default: None\n",
      "    The lower and upper range of the bins. Lower and upper outliers\n",
      "    are ignored. If not provided, *range* is ``(x.min(), x.max())``.\n",
      "    Range has no effect if *bins* is a sequence.\n",
      "\n",
      "    If *bins* is a sequence or *range* is specified, autoscaling\n",
      "    is based on the specified bin range instead of the\n",
      "    range of x.\n",
      "\n",
      "density : bool, default: False\n",
      "    If ``True``, draw and return a probability density: each bin\n",
      "    will display the bin's raw count divided by the total number of\n",
      "    counts *and the bin width*\n",
      "    (``density = counts / (sum(counts) * np.diff(bins))``),\n",
      "    so that the area under the histogram integrates to 1\n",
      "    (``np.sum(density * np.diff(bins)) == 1``).\n",
      "\n",
      "    If *stacked* is also ``True``, the sum of the histograms is\n",
      "    normalized to 1.\n",
      "\n",
      "weights : (n,) array-like or None, default: None\n",
      "    An array of weights, of the same shape as *x*.  Each value in\n",
      "    *x* only contributes its associated weight towards the bin count\n",
      "    (instead of 1).  If *density* is ``True``, the weights are\n",
      "    normalized, so that the integral of the density over the range\n",
      "    remains 1.\n",
      "\n",
      "cumulative : bool or -1, default: False\n",
      "    If ``True``, then a histogram is computed where each bin gives the\n",
      "    counts in that bin plus all bins for smaller values. The last bin\n",
      "    gives the total number of datapoints.\n",
      "\n",
      "    If *density* is also ``True`` then the histogram is normalized such\n",
      "    that the last bin equals 1.\n",
      "\n",
      "    If *cumulative* is a number less than 0 (e.g., -1), the direction\n",
      "    of accumulation is reversed.  In this case, if *density* is also\n",
      "    ``True``, then the histogram is normalized such that the first bin\n",
      "    equals 1.\n",
      "\n",
      "bottom : array-like, scalar, or None, default: None\n",
      "    Location of the bottom of each bin, i.e. bins are drawn from\n",
      "    ``bottom`` to ``bottom + hist(x, bins)`` If a scalar, the bottom\n",
      "    of each bin is shifted by the same amount. If an array, each bin\n",
      "    is shifted independently and the length of bottom must match the\n",
      "    number of bins. If None, defaults to 0.\n",
      "\n",
      "histtype : {'bar', 'barstacked', 'step', 'stepfilled'}, default: 'bar'\n",
      "    The type of histogram to draw.\n",
      "\n",
      "    - 'bar' is a traditional bar-type histogram.  If multiple data\n",
      "      are given the bars are arranged side by side.\n",
      "    - 'barstacked' is a bar-type histogram where multiple\n",
      "      data are stacked on top of each other.\n",
      "    - 'step' generates a lineplot that is by default unfilled.\n",
      "    - 'stepfilled' generates a lineplot that is by default filled.\n",
      "\n",
      "align : {'left', 'mid', 'right'}, default: 'mid'\n",
      "    The horizontal alignment of the histogram bars.\n",
      "\n",
      "    - 'left': bars are centered on the left bin edges.\n",
      "    - 'mid': bars are centered between the bin edges.\n",
      "    - 'right': bars are centered on the right bin edges.\n",
      "\n",
      "orientation : {'vertical', 'horizontal'}, default: 'vertical'\n",
      "    If 'horizontal', `~.Axes.barh` will be used for bar-type histograms\n",
      "    and the *bottom* kwarg will be the left edges.\n",
      "\n",
      "rwidth : float or None, default: None\n",
      "    The relative width of the bars as a fraction of the bin width.  If\n",
      "    ``None``, automatically compute the width.\n",
      "\n",
      "    Ignored if *histtype* is 'step' or 'stepfilled'.\n",
      "\n",
      "log : bool, default: False\n",
      "    If ``True``, the histogram axis will be set to a log scale.\n",
      "\n",
      "color : color or array-like of colors or None, default: None\n",
      "    Color or sequence of colors, one per dataset.  Default (``None``)\n",
      "    uses the standard line color sequence.\n",
      "\n",
      "label : str or None, default: None\n",
      "    String, or sequence of strings to match multiple datasets.  Bar\n",
      "    charts yield multiple patches per dataset, but only the first gets\n",
      "    the label, so that `~.Axes.legend` will work as expected.\n",
      "\n",
      "stacked : bool, default: False\n",
      "    If ``True``, multiple data are stacked on top of each other If\n",
      "    ``False`` multiple data are arranged side by side if histtype is\n",
      "    'bar' or on top of each other if histtype is 'step'\n",
      "\n",
      "Returns\n",
      "-------\n",
      "n : array or list of arrays\n",
      "    The values of the histogram bins. See *density* and *weights* for a\n",
      "    description of the possible semantics.  If input *x* is an array,\n",
      "    then this is an array of length *nbins*. If input is a sequence of\n",
      "    arrays ``[data1, data2, ...]``, then this is a list of arrays with\n",
      "    the values of the histograms for each of the arrays in the same\n",
      "    order.  The dtype of the array *n* (or of its element arrays) will\n",
      "    always be float even if no weighting or normalization is used.\n",
      "\n",
      "bins : array\n",
      "    The edges of the bins. Length nbins + 1 (nbins left edges and right\n",
      "    edge of last bin).  Always a single array even when multiple data\n",
      "    sets are passed in.\n",
      "\n",
      "patches : `.BarContainer` or list of a single `.Polygon` or list of such objects\n",
      "    Container of individual artists used to create the histogram\n",
      "    or list of such containers if there are multiple input datasets.\n",
      "\n",
      "Other Parameters\n",
      "----------------\n",
      "data : indexable object, optional\n",
      "    If given, the following parameters also accept a string ``s``, which is\n",
      "    interpreted as ``data[s]`` (unless this raises an exception):\n",
      "\n",
      "    *x*, *weights*\n",
      "\n",
      "**kwargs\n",
      "    `~matplotlib.patches.Patch` properties\n",
      "\n",
      "See Also\n",
      "--------\n",
      "hist2d : 2D histogram with rectangular bins\n",
      "hexbin : 2D histogram with hexagonal bins\n",
      "stairs : Plot a pre-computed histogram\n",
      "bar : Plot a pre-computed histogram\n",
      "\n",
      "Notes\n",
      "-----\n",
      "For large numbers of bins (>1000), plotting can be significantly\n",
      "accelerated by using `~.Axes.stairs` to plot a pre-computed histogram\n",
      "(``plt.stairs(*np.histogram(data))``), or by setting *histtype* to\n",
      "'step' or 'stepfilled' rather than 'bar' or 'barstacked'.\n",
      "\u001b[1;31mFile:\u001b[0m      c:\\python\\python310\\lib\\site-packages\\matplotlib\\pyplot.py\n",
      "\u001b[1;31mType:\u001b[0m      function"
     ]
    }
   ],
   "source": [
    "plt.hist?"
   ]
  },
  {
   "cell_type": "code",
   "execution_count": null,
   "metadata": {},
   "outputs": [],
   "source": []
  }
 ],
 "metadata": {
  "kernelspec": {
   "display_name": "Python 3",
   "language": "python",
   "name": "python3"
  },
  "language_info": {
   "codemirror_mode": {
    "name": "ipython",
    "version": 3
   },
   "file_extension": ".py",
   "mimetype": "text/x-python",
   "name": "python",
   "nbconvert_exporter": "python",
   "pygments_lexer": "ipython3",
   "version": "3.10.11"
  },
  "orig_nbformat": 4
 },
 "nbformat": 4,
 "nbformat_minor": 2
}
